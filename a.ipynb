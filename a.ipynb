{
 "cells": [
  {
   "cell_type": "code",
   "execution_count": null,
   "metadata": {},
   "outputs": [],
   "source": [
    "pip install pandas"
   ]
  },
  {
   "cell_type": "code",
   "execution_count": null,
   "metadata": {},
   "outputs": [],
   "source": [
    "pip install sklearn"
   ]
  },
  {
   "cell_type": "code",
   "execution_count": null,
   "metadata": {},
   "outputs": [],
   "source": [
    "pip install tensorflow"
   ]
  },
  {
   "cell_type": "code",
   "execution_count": null,
   "metadata": {},
   "outputs": [],
   "source": [
    "import numpy as np # used for handling numbers\n",
    "import pandas as pd # used for handling the dataset\n",
    "from sklearn.impute import SimpleImputer # used for handling missing data\n",
    "from sklearn.preprocessing import LabelEncoder, OneHotEncoder # used for encoding categorical data\n",
    "from sklearn.model_selection import train_test_split # used for splitting training and testing data\n",
    "from sklearn.preprocessing import StandardScaler # used for feature scaling\n",
    "import tensorflow.compat.v1 as tf\n",
    "tf.disable_v2_behavior() "
   ]
  },
  {
   "cell_type": "code",
   "execution_count": null,
   "metadata": {
    "scrolled": true
   },
   "outputs": [],
   "source": [
    "data_cardio = pd.read_csv('cardio_train.csv',sep=';')\n",
    "data_cardio = data_cardio.drop(['id'] , axis=1)"
   ]
  },
  {
   "cell_type": "code",
   "execution_count": null,
   "metadata": {},
   "outputs": [],
   "source": [
    "data_cardio.loc[:,('cardioneg')] = data_cardio['cardio'] == 0\n",
    "data_cardio.loc[:,('cardioneg')] = data_cardio['cardioneg'].astype(int)\n",
    "inputX = data_cardio.drop(['cardio','cardioneg'], axis=1).to_numpy()\n",
    "inputY = data_cardio.loc[:,['cardio','cardioneg']].to_numpy()"
   ]
  },
  {
   "cell_type": "code",
   "execution_count": null,
   "metadata": {},
   "outputs": [],
   "source": [
    "learning_rate = 0.000001\n",
    "training_epochs = 10000\n",
    "display_step = 50\n",
    "n_samples = inputX.size"
   ]
  },
  {
   "cell_type": "code",
   "execution_count": null,
   "metadata": {},
   "outputs": [],
   "source": [
    "x = tf.placeholder(tf.float32,[None,11])\n",
    "y = tf.placeholder(tf.float32,[None,2])\n",
    "W1 = tf.Variable(tf.random_normal([11, 9], stddev=0.04), name='W1')\n",
    "b1 = tf.Variable(tf.random_normal([9]), name='b1')\n",
    "W2 = tf.Variable(tf.random_normal([9, 6], stddev=0.04), name='W2')\n",
    "b2 = tf.Variable(tf.random_normal([6]), name='b2')\n",
    "W3 = tf.Variable(tf.random_normal([6, 4], stddev=0.04), name='W3')\n",
    "b3 = tf.Variable(tf.random_normal([4]), name='b3')\n",
    "W4 = tf.Variable(tf.random_normal([4, 2], stddev=0.04), name='W4')\n",
    "b4 = tf.Variable(tf.random_normal([2]), name='b4')"
   ]
  },
  {
   "cell_type": "code",
   "execution_count": null,
   "metadata": {},
   "outputs": [],
   "source": [
    "hidden_out1 = tf.add(tf.matmul(x, W1), b1)\n",
    "hidden_out1 = tf.nn.relu(hidden_out1)\n",
    "hidden_out2 = tf.add(tf.matmul(hidden_out1, W2), b2)\n",
    "hidden_out2 = tf.nn.relu(hidden_out2)\n",
    "hidden_out3 = tf.add(tf.matmul(hidden_out2, W3), b3)\n",
    "hidden_out3 = tf.nn.relu(hidden_out3)\n",
    "y_ = tf.nn.softmax(tf.add(tf.matmul(hidden_out3, W4), b4))"
   ]
  },
  {
   "cell_type": "code",
   "execution_count": null,
   "metadata": {},
   "outputs": [],
   "source": [
    "cost = tf.reduce_sum(tf.pow(y_ -  y , 2)) / (2 * n_samples)\n",
    "optimiser = tf.train.GradientDescentOptimizer(learning_rate=learning_rate).minimize(cost)"
   ]
  },
  {
   "cell_type": "code",
   "execution_count": null,
   "metadata": {
    "scrolled": true
   },
   "outputs": [],
   "source": [
    "init_op = tf.global_variables_initializer()\n",
    "with tf.Session() as sess:\n",
    "    sess.run(init_op)\n",
    "    for i in range(training_epochs):\n",
    "        sess.run(optimiser,feed_dict={x:inputX , y:inputY})\n",
    "        if (i) % display_step == 0:\n",
    "            cc = sess.run(cost, feed_dict={x:inputX, y:inputY})\n",
    "            print('training_step' , '%04d' % (i) , 'cost=', '{:.9f}'.format(cc))\n",
    "    print('optimization finished')\n",
    "    training_cost = sess.run(cost, feed_dict={x:inputX, y:inputY})\n",
    "    print('training cost' , training_cost , 'W1' , sess.run(W1) , 'b1' , sess.run(b1))\n",
    "    print('\\n')\n",
    "    data_cardiotest = data_cardio[0:10]\n",
    "    inputXtest = data_cardio.drop(['cardio','cardioneg'], axis=1).to_numpy()\n",
    "    tested = sess.run(y_,feed_dict={x:inputXtest})\n",
    "    print(tested[0:5])\n",
    "    print('\\n')\n",
    "    print(tested[5:10])"
   ]
  },
  {
   "cell_type": "code",
   "execution_count": null,
   "metadata": {},
   "outputs": [],
   "source": [
    "data_cardiotest = data_cardio[0:10]\n",
    "data_cardiotest"
   ]
  },
  {
   "cell_type": "code",
   "execution_count": null,
   "metadata": {},
   "outputs": [],
   "source": [
    " with tf.Session() as sess:\n",
    "    sess.run(init_op)\n",
    "    inputXtest = data_cardio.drop(['cardio','cardioneg'], axis=1).to_numpy()\n",
    "    tested = sess.run(y_,feed_dict={x:inputXtest})\n",
    "    print(tested[5:10])\n",
    "    "
   ]
  },
  {
   "cell_type": "code",
   "execution_count": null,
   "metadata": {},
   "outputs": [],
   "source": []
  }
 ],
 "metadata": {
  "kernelspec": {
   "display_name": "Python 3",
   "language": "python",
   "name": "python3"
  },
  "language_info": {
   "codemirror_mode": {
    "name": "ipython",
    "version": 3
   },
   "file_extension": ".py",
   "mimetype": "text/x-python",
   "name": "python",
   "nbconvert_exporter": "python",
   "pygments_lexer": "ipython3",
   "version": "3.7.7"
  }
 },
 "nbformat": 4,
 "nbformat_minor": 4
}
